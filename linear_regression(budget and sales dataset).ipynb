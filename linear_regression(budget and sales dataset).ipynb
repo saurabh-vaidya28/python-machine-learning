{
 "cells": [
  {
   "cell_type": "markdown",
   "metadata": {},
   "source": [
    "# Linear regression on sales dataset"
   ]
  },
  {
   "cell_type": "code",
   "execution_count": 1,
   "metadata": {},
   "outputs": [],
   "source": [
    "import numpy as np\n",
    "import pandas as pd\n",
    "import matplotlib.pyplot as plt\n",
    "import seaborn as sns\n"
   ]
  },
  {
   "cell_type": "code",
   "execution_count": 2,
   "metadata": {},
   "outputs": [
    {
     "name": "stdout",
     "output_type": "stream",
     "text": [
      "    Marketing Budget (X) in Thousands  Actual Sales(Y) in Millions\n",
      "0                               127.4                         10.5\n",
      "1                               364.4                         21.4\n",
      "2                               150.0                         10.0\n",
      "3                               128.7                          9.6\n",
      "4                               285.9                         17.4\n",
      "5                               200.0                         12.5\n",
      "6                               303.3                         20.0\n",
      "7                               315.7                         21.0\n",
      "8                               169.8                         14.7\n",
      "9                               104.9                         10.1\n",
      "10                              297.7                         21.5\n",
      "11                              256.4                         16.6\n",
      "12                              249.1                         17.1\n",
      "13                              323.1                         20.7\n",
      "14                              223.0                         15.5\n",
      "15                              235.0                         13.5\n",
      "16                              200.0                         12.5\n"
     ]
    }
   ],
   "source": [
    "df = pd.read_csv(\"Linear_Regression_Data.csv\")\n",
    "print(df)"
   ]
  },
  {
   "cell_type": "code",
   "execution_count": 3,
   "metadata": {},
   "outputs": [
    {
     "name": "stdout",
     "output_type": "stream",
     "text": [
      "Shape of our dataset\n",
      "(17, 2)\n"
     ]
    }
   ],
   "source": [
    "print(\"Shape of our dataset\")\n",
    "print(df.shape)"
   ]
  },
  {
   "cell_type": "code",
   "execution_count": 4,
   "metadata": {},
   "outputs": [
    {
     "name": "stdout",
     "output_type": "stream",
     "text": [
      "Info of our dataset\n",
      "<class 'pandas.core.frame.DataFrame'>\n",
      "RangeIndex: 17 entries, 0 to 16\n",
      "Data columns (total 2 columns):\n",
      " #   Column                             Non-Null Count  Dtype  \n",
      "---  ------                             --------------  -----  \n",
      " 0   Marketing Budget (X) in Thousands  17 non-null     float64\n",
      " 1   Actual Sales(Y) in Millions        17 non-null     float64\n",
      "dtypes: float64(2)\n",
      "memory usage: 336.0 bytes\n",
      "None\n"
     ]
    }
   ],
   "source": [
    "print(\"Info of our dataset\")\n",
    "print(df.info())"
   ]
  },
  {
   "cell_type": "code",
   "execution_count": 5,
   "metadata": {},
   "outputs": [
    {
     "name": "stdout",
     "output_type": "stream",
     "text": [
      "Describe our dataset\n",
      "       Marketing Budget (X) in Thousands  Actual Sales(Y) in Millions\n",
      "count                          17.000000                    17.000000\n",
      "mean                          231.435294                    15.564706\n",
      "std                            77.669049                     4.312183\n",
      "min                           104.900000                     9.600000\n",
      "25%                           169.800000                    12.500000\n",
      "50%                           235.000000                    15.500000\n",
      "75%                           297.700000                    20.000000\n",
      "max                           364.400000                    21.500000\n"
     ]
    }
   ],
   "source": [
    "print(\"Describe our dataset\")\n",
    "print(df.describe())"
   ]
  },
  {
   "cell_type": "code",
   "execution_count": 6,
   "metadata": {},
   "outputs": [
    {
     "data": {
      "image/png": "[encoded data removed]",
      "text/plain": [
       "<Figure size 288x288 with 1 Axes>"
      ]
     },
     "metadata": {
      "needs_background": "light"
     },
     "output_type": "display_data"
    }
   ],
   "source": [
    "sns.pairplot(df, x_vars = 'Marketing Budget (X) in Thousands', \n",
    "            y_vars = 'Actual Sales(Y) in Millions', \n",
    "             height = 4, aspect = 1, kind = 'scatter')\n",
    "plt.show()\n"
   ]
  },
  {
   "cell_type": "code",
   "execution_count": 7,
   "metadata": {},
   "outputs": [],
   "source": [
    "X = df.iloc[:, :-1].values\n",
    "Y = df.iloc[:, 1].values\n"
   ]
  },
  {
   "cell_type": "code",
   "execution_count": 8,
   "metadata": {},
   "outputs": [
    {
     "name": "stdout",
     "output_type": "stream",
     "text": [
      "Training data in:\n",
      "[[249.1]\n",
      " [303.3]\n",
      " [235. ]\n",
      " [200. ]\n",
      " [150. ]\n",
      " [285.9]\n",
      " [297.7]\n",
      " [127.4]\n",
      " [323.1]\n",
      " [315.7]\n",
      " [128.7]\n",
      " [200. ]\n",
      " [169.8]]\n",
      "Training data out:\n",
      "[17.1 20.  13.5 12.5 10.  17.4 21.5 10.5 20.7 21.   9.6 12.5 14.7]\n",
      "Testing data in:\n",
      "[[223. ]\n",
      " [104.9]\n",
      " [256.4]\n",
      " [364.4]]\n",
      "Testing data out:\n",
      "[15.5 10.1 16.6 21.4]\n"
     ]
    }
   ],
   "source": [
    "from sklearn.model_selection import train_test_split\n",
    "X_train, X_test, Y_train, Y_test = train_test_split(X, Y, train_size = 0.8,\n",
    "                                        test_size = 0.2, random_state = 100)\n",
    "print(\"Training data in:\")\n",
    "print(X_train)\n",
    "print(\"Training data out:\")\n",
    "print(Y_train)\n",
    "print(\"Testing data in:\")\n",
    "print(X_test)\n",
    "print(\"Testing data out:\")\n",
    "print(Y_test)"
   ]
  },
  {
   "cell_type": "code",
   "execution_count": 9,
   "metadata": {},
   "outputs": [
    {
     "name": "stdout",
     "output_type": "stream",
     "text": [
      "   Actual  Predicted\n",
      "0    15.5  15.075206\n",
      "1    10.1   8.233956\n",
      "2    16.6  17.009988\n",
      "3    21.4  23.266169\n"
     ]
    }
   ],
   "source": [
    "from sklearn.linear_model import LinearRegression\n",
    "regressor = LinearRegression()\n",
    "regressor.fit(X_train, Y_train)\n",
    "Y_pred = regressor.predict(X_test)\n",
    "df = pd.DataFrame({'Actual': Y_test, 'Predicted': Y_pred})\n",
    "print(df)"
   ]
  },
  {
   "cell_type": "code",
   "execution_count": 10,
   "metadata": {},
   "outputs": [
    {
     "name": "stdout",
     "output_type": "stream",
     "text": [
      "\n",
      "Regressor Intercept\n",
      "2.1573507871283653\n",
      "\n",
      "Regressor Coefficient\n",
      "[0.0579276]\n",
      "\n",
      "Regressor Score\n",
      "0.894658560621724\n"
     ]
    }
   ],
   "source": [
    "print(\"\\nRegressor Intercept\")\n",
    "print(regressor.intercept_)\n",
    "print(\"\\nRegressor Coefficient\")\n",
    "print(regressor.coef_)\n",
    "print(\"\\nRegressor Score\")\n",
    "print(regressor.score(X, Y))"
   ]
  }
 ],
 "metadata": {
  "kernelspec": {
   "display_name": "Python 3",
   "language": "python",
   "name": "python3"
  },
  "language_info": {
   "codemirror_mode": {
    "name": "ipython",
    "version": 3
   },
   "file_extension": ".py",
   "mimetype": "text/x-python",
   "name": "python",
   "nbconvert_exporter": "python",
   "pygments_lexer": "ipython3",
   "version": "3.8.2"
  }
 },
 "nbformat": 4,
 "nbformat_minor": 4
}
