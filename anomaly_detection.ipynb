{
 "cells": [
  {
   "cell_type": "markdown",
   "metadata": {},
   "source": [
    "### Anomaly Detection using supervised and unsupervised learning"
   ]
  },
  {
   "cell_type": "code",
   "execution_count": 1,
   "metadata": {},
   "outputs": [],
   "source": [
    "import numpy as np\n",
    "import pandas as pd\n",
    "import matplotlib.pyplot as plt\n",
    "%matplotlib inline"
   ]
  },
  {
   "cell_type": "code",
   "execution_count": 2,
   "metadata": {},
   "outputs": [],
   "source": [
    "from faker import Faker\n",
    "fake = Faker()\n",
    "Faker.seed(4321)\n",
    "names_list = []\n",
    "for _ in range(100):\n",
    "    names_list.append(fake.name())"
   ]
  },
  {
   "cell_type": "code",
   "execution_count": 3,
   "metadata": {},
   "outputs": [],
   "source": [
    "np.random.seed(7)\n",
    "salaries = []\n",
    "for _ in range(100):\n",
    "    salary = np.random.randint(1000, 2500)\n",
    "    salaries.append(salary)"
   ]
  },
  {
   "cell_type": "code",
   "execution_count": 4,
   "metadata": {},
   "outputs": [
    {
     "name": "stdout",
     "output_type": "stream",
     "text": [
      "              Person  Salary (in USD)\n",
      "0        Jason Brown             1175\n",
      "1        Jacob Stein             2220\n",
      "2         Cody Brown             1537\n",
      "3      Larry Morales             1502\n",
      "4  Jessica Hendricks             1211\n"
     ]
    }
   ],
   "source": [
    "salary_df = pd.DataFrame({'Person':names_list, 'Salary (in USD)':salaries})\n",
    "print(salary_df.head())"
   ]
  },
  {
   "cell_type": "code",
   "execution_count": 5,
   "metadata": {},
   "outputs": [
    {
     "name": "stdout",
     "output_type": "stream",
     "text": [
      "Person             Miss Amanda Harris MD\n",
      "Salary (in USD)                       23\n",
      "Name: 16, dtype: object\n",
      "Person             Joyce Bishop\n",
      "Salary (in USD)              17\n",
      "Name: 65, dtype: object\n"
     ]
    }
   ],
   "source": [
    "salary_df.at[16, 'Salary (in USD)'] = 23\n",
    "salary_df.at[65, 'Salary (in USD)'] = 17\n",
    "print(salary_df.loc[16])\n",
    "print(salary_df.loc[65])"
   ]
  },
  {
   "cell_type": "code",
   "execution_count": 6,
   "metadata": {},
   "outputs": [
    {
     "data": {
      "text/plain": [
       "<AxesSubplot:>"
      ]
     },
     "execution_count": 6,
     "metadata": {},
     "output_type": "execute_result"
    },
    {
     "data": {
      "image/png": "[encoded data removed]",
      "text/plain": [
       "<Figure size 432x288 with 1 Axes>"
      ]
     },
     "metadata": {
      "needs_background": "light"
     },
     "output_type": "display_data"
    }
   ],
   "source": [
    "salary_df['Salary (in USD)'].plot(kind = 'box')"
   ]
  },
  {
   "cell_type": "code",
   "execution_count": 7,
   "metadata": {},
   "outputs": [
    {
     "data": {
      "text/plain": [
       "<AxesSubplot:ylabel='Frequency'>"
      ]
     },
     "execution_count": 7,
     "metadata": {},
     "output_type": "execute_result"
    },
    {
     "data": {
      "image/png": "[encoded data removed]",
      "text/plain": [
       "<Figure size 432x288 with 1 Axes>"
      ]
     },
     "metadata": {
      "needs_background": "light"
     },
     "output_type": "display_data"
    }
   ],
   "source": [
    "salary_df['Salary (in USD)'].plot(kind = 'hist')"
   ]
  },
  {
   "cell_type": "code",
   "execution_count": 8,
   "metadata": {},
   "outputs": [
    {
     "name": "stdout",
     "output_type": "stream",
     "text": [
      "Minimum salary 17\n",
      "Maximum salary 2498\n"
     ]
    }
   ],
   "source": [
    "print('Minimum salary ' + str(salary_df['Salary (in USD)'].min()))\n",
    "print('Maximum salary ' + str(salary_df['Salary (in USD)'].max()))"
   ]
  },
  {
   "cell_type": "markdown",
   "metadata": {},
   "source": [
    "Clustering based approach for anomaly detection"
   ]
  },
  {
   "cell_type": "code",
   "execution_count": 9,
   "metadata": {},
   "outputs": [
    {
     "name": "stdout",
     "output_type": "stream",
     "text": [
      "[1175 2220 1537 1502 1211 1919 2372 2209 2422 1535 1345 1366 1554 1730\n",
      " 1904 2191   23 2456 1391 1940 2099 1823 1250 2030 2468 2068 2349 2176\n",
      " 1183 1949 2136 1763 2213 1290 1312 1201 2486 1550 1772 1494 2161 2219\n",
      " 2096 1944 1257 1400 2398 2373 1940 1604 1764 1279 1745 1803 2472 2341\n",
      " 2415 2175 1092 1759 2248 1356 1931 1481 1579   17 1481 2043 1923 1787\n",
      " 1033 2147 2310 1741 1989 2439 2154 2107 1402 1021 1203 1047 1784 1524\n",
      " 1349 1107 1393 1844 1622 1654 1636 1276 1309 1827 1035 1260 1456 2498\n",
      " 2007 2239]\n"
     ]
    }
   ],
   "source": [
    "salary_raw = salary_df['Salary (in USD)'].values\n",
    "print(salary_raw)"
   ]
  },
  {
   "cell_type": "code",
   "execution_count": 10,
   "metadata": {},
   "outputs": [
    {
     "name": "stdout",
     "output_type": "stream",
     "text": [
      "[[1175]\n",
      " [2220]\n",
      " [1537]\n",
      " [1502]\n",
      " [1211]\n",
      " [1919]\n",
      " [2372]\n",
      " [2209]\n",
      " [2422]\n",
      " [1535]\n",
      " [1345]\n",
      " [1366]\n",
      " [1554]\n",
      " [1730]\n",
      " [1904]\n",
      " [2191]\n",
      " [  23]\n",
      " [2456]\n",
      " [1391]\n",
      " [1940]\n",
      " [2099]\n",
      " [1823]\n",
      " [1250]\n",
      " [2030]\n",
      " [2468]\n",
      " [2068]\n",
      " [2349]\n",
      " [2176]\n",
      " [1183]\n",
      " [1949]\n",
      " [2136]\n",
      " [1763]\n",
      " [2213]\n",
      " [1290]\n",
      " [1312]\n",
      " [1201]\n",
      " [2486]\n",
      " [1550]\n",
      " [1772]\n",
      " [1494]\n",
      " [2161]\n",
      " [2219]\n",
      " [2096]\n",
      " [1944]\n",
      " [1257]\n",
      " [1400]\n",
      " [2398]\n",
      " [2373]\n",
      " [1940]\n",
      " [1604]\n",
      " [1764]\n",
      " [1279]\n",
      " [1745]\n",
      " [1803]\n",
      " [2472]\n",
      " [2341]\n",
      " [2415]\n",
      " [2175]\n",
      " [1092]\n",
      " [1759]\n",
      " [2248]\n",
      " [1356]\n",
      " [1931]\n",
      " [1481]\n",
      " [1579]\n",
      " [  17]\n",
      " [1481]\n",
      " [2043]\n",
      " [1923]\n",
      " [1787]\n",
      " [1033]\n",
      " [2147]\n",
      " [2310]\n",
      " [1741]\n",
      " [1989]\n",
      " [2439]\n",
      " [2154]\n",
      " [2107]\n",
      " [1402]\n",
      " [1021]\n",
      " [1203]\n",
      " [1047]\n",
      " [1784]\n",
      " [1524]\n",
      " [1349]\n",
      " [1107]\n",
      " [1393]\n",
      " [1844]\n",
      " [1622]\n",
      " [1654]\n",
      " [1636]\n",
      " [1276]\n",
      " [1309]\n",
      " [1827]\n",
      " [1035]\n",
      " [1260]\n",
      " [1456]\n",
      " [2498]\n",
      " [2007]\n",
      " [2239]]\n"
     ]
    }
   ],
   "source": [
    "salary_raw = salary_raw.reshape(-1, 1)\n",
    "print(salary_raw)"
   ]
  },
  {
   "cell_type": "code",
   "execution_count": 11,
   "metadata": {},
   "outputs": [
    {
     "name": "stdout",
     "output_type": "stream",
     "text": [
      "[[1175.]\n",
      " [2220.]\n",
      " [1537.]\n",
      " [1502.]\n",
      " [1211.]\n",
      " [1919.]\n",
      " [2372.]\n",
      " [2209.]\n",
      " [2422.]\n",
      " [1535.]\n",
      " [1345.]\n",
      " [1366.]\n",
      " [1554.]\n",
      " [1730.]\n",
      " [1904.]\n",
      " [2191.]\n",
      " [  23.]\n",
      " [2456.]\n",
      " [1391.]\n",
      " [1940.]\n",
      " [2099.]\n",
      " [1823.]\n",
      " [1250.]\n",
      " [2030.]\n",
      " [2468.]\n",
      " [2068.]\n",
      " [2349.]\n",
      " [2176.]\n",
      " [1183.]\n",
      " [1949.]\n",
      " [2136.]\n",
      " [1763.]\n",
      " [2213.]\n",
      " [1290.]\n",
      " [1312.]\n",
      " [1201.]\n",
      " [2486.]\n",
      " [1550.]\n",
      " [1772.]\n",
      " [1494.]\n",
      " [2161.]\n",
      " [2219.]\n",
      " [2096.]\n",
      " [1944.]\n",
      " [1257.]\n",
      " [1400.]\n",
      " [2398.]\n",
      " [2373.]\n",
      " [1940.]\n",
      " [1604.]\n",
      " [1764.]\n",
      " [1279.]\n",
      " [1745.]\n",
      " [1803.]\n",
      " [2472.]\n",
      " [2341.]\n",
      " [2415.]\n",
      " [2175.]\n",
      " [1092.]\n",
      " [1759.]\n",
      " [2248.]\n",
      " [1356.]\n",
      " [1931.]\n",
      " [1481.]\n",
      " [1579.]\n",
      " [  17.]\n",
      " [1481.]\n",
      " [2043.]\n",
      " [1923.]\n",
      " [1787.]\n",
      " [1033.]\n",
      " [2147.]\n",
      " [2310.]\n",
      " [1741.]\n",
      " [1989.]\n",
      " [2439.]\n",
      " [2154.]\n",
      " [2107.]\n",
      " [1402.]\n",
      " [1021.]\n",
      " [1203.]\n",
      " [1047.]\n",
      " [1784.]\n",
      " [1524.]\n",
      " [1349.]\n",
      " [1107.]\n",
      " [1393.]\n",
      " [1844.]\n",
      " [1622.]\n",
      " [1654.]\n",
      " [1636.]\n",
      " [1276.]\n",
      " [1309.]\n",
      " [1827.]\n",
      " [1035.]\n",
      " [1260.]\n",
      " [1456.]\n",
      " [2498.]\n",
      " [2007.]\n",
      " [2239.]]\n"
     ]
    }
   ],
   "source": [
    "salary_raw = salary_raw.astype('float64')\n",
    "print(salary_raw)"
   ]
  },
  {
   "cell_type": "code",
   "execution_count": 12,
   "metadata": {},
   "outputs": [
    {
     "data": {
      "image/png": "[encoded data removed]",
      "text/plain": [
       "<Figure size 432x288 with 1 Axes>"
      ]
     },
     "metadata": {
      "needs_background": "light"
     },
     "output_type": "display_data"
    }
   ],
   "source": [
    "from scipy.cluster.vq import vq\n",
    "from scipy.cluster.vq import kmeans\n",
    "from sklearn.cluster import KMeans\n",
    "centroids, avg_distance = kmeans(salary_raw, 4)\n",
    "\n",
    "# Get the groups (clusters) and distances\n",
    "groups, cdist = vq(salary_raw, centroids)\n",
    "plt.scatter(salary_raw, np.arange(0, 100), c = groups)\n",
    "plt.xlabel('Salaries in (USD)')\n",
    "plt.ylabel('Indices')\n",
    "plt.show()"
   ]
  },
  {
   "cell_type": "code",
   "execution_count": 13,
   "metadata": {},
   "outputs": [
    {
     "name": "stdout",
     "output_type": "stream",
     "text": [
      "Person             Miss Amanda Harris MD\n",
      "Salary (in USD)                       23\n",
      "class                                  1\n",
      "Name: 16, dtype: object\n"
     ]
    }
   ],
   "source": [
    "# First assign all the instances to \n",
    "salary_df['class'] = 0\n",
    "\n",
    "# Manually edit the labels for the anomalies\n",
    "salary_df.at[16, 'class'] = 1\n",
    "salary_df.at[65, 'class'] = 1\n",
    "\n",
    "# Veirfy \n",
    "print(salary_df.loc[16])"
   ]
  },
  {
   "cell_type": "code",
   "execution_count": 14,
   "metadata": {},
   "outputs": [],
   "source": [
    "# Importing KNN module from PyOD\n",
    "from pyod.models.knn import KNN"
   ]
  },
  {
   "cell_type": "code",
   "execution_count": 15,
   "metadata": {},
   "outputs": [],
   "source": [
    "# Segregate the salary values and the class labels \n",
    "X = salary_df['Salary (in USD)'].values.reshape(-1,1)\n",
    "y = salary_df['class'].values"
   ]
  },
  {
   "cell_type": "code",
   "execution_count": 16,
   "metadata": {},
   "outputs": [
    {
     "data": {
      "text/plain": [
       "KNN(algorithm='auto', contamination=0.02, leaf_size=30, method='largest',\n",
       "  metric='minkowski', metric_params=None, n_jobs=1, n_neighbors=5, p=2,\n",
       "  radius=1.0)"
      ]
     },
     "execution_count": 16,
     "metadata": {},
     "output_type": "execute_result"
    }
   ],
   "source": [
    "#Train KNN detector\n",
    "clf = KNN(contamination = 0.02, n_neighbors = 5)\n",
    "clf.fit(X)"
   ]
  },
  {
   "cell_type": "code",
   "execution_count": 17,
   "metadata": {},
   "outputs": [],
   "source": [
    "# Get the prediction labels of the training data\n",
    "y_train_pred = clf.labels_ \n",
    "    \n",
    "# Outlier scores\n",
    "y_train_scores = clf.decision_scores_"
   ]
  },
  {
   "cell_type": "code",
   "execution_count": 18,
   "metadata": {},
   "outputs": [
    {
     "name": "stdout",
     "output_type": "stream",
     "text": [
      "KNN ROC:1.0, precision @ rank n:1.0\n"
     ]
    }
   ],
   "source": [
    "# Import the utility function for model evaluation\n",
    "from pyod.utils import evaluate_print\n",
    "\n",
    "# Evaluate on the training data\n",
    "evaluate_print('KNN', y, y_train_scores)"
   ]
  },
  {
   "cell_type": "code",
   "execution_count": 19,
   "metadata": {},
   "outputs": [
    {
     "data": {
      "text/plain": [
       "array([1])"
      ]
     },
     "execution_count": 19,
     "metadata": {},
     "output_type": "execute_result"
    }
   ],
   "source": [
    "# A salary of $37 (an anomaly right?)\n",
    "X_test = np.array([[37.]])\n",
    "\n",
    "# Check what the model predicts on the given test data point\n",
    "clf.predict(X_test)"
   ]
  },
  {
   "cell_type": "code",
   "execution_count": 20,
   "metadata": {},
   "outputs": [
    {
     "data": {
      "text/plain": [
       "array([0])"
      ]
     },
     "execution_count": 20,
     "metadata": {},
     "output_type": "execute_result"
    }
   ],
   "source": [
    "# A salary of $1256\n",
    "X_test_abnormal = np.array([[1256.]])\n",
    "\n",
    "# Predict\n",
    "clf.predict(X_test_abnormal)"
   ]
  },
  {
   "cell_type": "code",
   "execution_count": 21,
   "metadata": {},
   "outputs": [],
   "source": [
    "from sklearn import datasets\n",
    "from sklearn.cluster import KMeans\n",
    "iris = datasets.load_iris()\n",
    "X = iris.data\n",
    "y = iris.target"
   ]
  },
  {
   "cell_type": "code",
   "execution_count": 22,
   "metadata": {},
   "outputs": [
    {
     "data": {
      "text/plain": [
       "array([1, 1, 1, 1, 1, 1, 1, 1, 1, 1, 1, 1, 1, 1, 1, 1, 1, 1, 1, 1, 1, 1,\n",
       "       1, 1, 1, 1, 1, 1, 1, 1, 1, 1, 1, 1, 1, 1, 1, 1, 1, 1, 1, 1, 1, 1,\n",
       "       1, 1, 1, 1, 1, 1, 0, 0, 2, 0, 0, 0, 0, 0, 0, 0, 0, 0, 0, 0, 0, 0,\n",
       "       0, 0, 0, 0, 0, 0, 0, 0, 0, 0, 0, 2, 0, 0, 0, 0, 0, 0, 0, 0, 0, 0,\n",
       "       0, 0, 0, 0, 0, 0, 0, 0, 0, 0, 0, 0, 2, 0, 2, 2, 2, 2, 0, 2, 2, 2,\n",
       "       2, 2, 2, 0, 0, 2, 2, 2, 2, 0, 2, 0, 2, 0, 2, 2, 0, 0, 2, 2, 2, 2,\n",
       "       2, 0, 2, 2, 2, 2, 0, 2, 2, 2, 0, 2, 2, 2, 0, 2, 2, 0])"
      ]
     },
     "execution_count": 22,
     "metadata": {},
     "output_type": "execute_result"
    }
   ],
   "source": [
    "km  = KMeans(n_clusters = 3, random_state = 42)\n",
    "km.fit_predict(X)"
   ]
  },
  {
   "cell_type": "code",
   "execution_count": 23,
   "metadata": {},
   "outputs": [
    {
     "name": "stdout",
     "output_type": "stream",
     "text": [
      "Silhouetter Score: 0.553\n"
     ]
    }
   ],
   "source": [
    "from sklearn.metrics import silhouette_score\n",
    "score = silhouette_score(X, km.labels_, metric='euclidean')\n",
    "print('Silhouetter Score: %.3f' % score)"
   ]
  }
 ],
 "metadata": {
  "kernelspec": {
   "display_name": "Python 3",
   "language": "python",
   "name": "python3"
  },
  "language_info": {
   "codemirror_mode": {
    "name": "ipython",
    "version": 3
   },
   "file_extension": ".py",
   "mimetype": "text/x-python",
   "name": "python",
   "nbconvert_exporter": "python",
   "pygments_lexer": "ipython3",
   "version": "3.8.2"
  }
 },
 "nbformat": 4,
 "nbformat_minor": 4
}
