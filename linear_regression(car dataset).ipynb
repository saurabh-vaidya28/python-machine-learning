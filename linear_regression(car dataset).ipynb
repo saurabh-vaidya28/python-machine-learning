{
 "cells": [
  {
   "cell_type": "markdown",
   "metadata": {},
   "source": [
    "# Linear regression on car dataset"
   ]
  },
  {
   "cell_type": "code",
   "execution_count": 1,
   "metadata": {},
   "outputs": [],
   "source": [
    "import numpy as np\n",
    "import pandas as pd\n",
    "import matplotlib.pyplot as plt\n",
    "from sklearn.linear_model import LinearRegression\n",
    "from sklearn.model_selection import train_test_split\n",
    "from sklearn.metrics import r2_score, mean_squared_error\n",
    "%matplotlib inline"
   ]
  },
  {
   "cell_type": "code",
   "execution_count": 2,
   "metadata": {},
   "outputs": [
    {
     "data": {
      "text/html": [
       "<div>\n",
       "<style scoped>\n",
       "    .dataframe tbody tr th:only-of-type {\n",
       "        vertical-align: middle;\n",
       "    }\n",
       "\n",
       "    .dataframe tbody tr th {\n",
       "        vertical-align: top;\n",
       "    }\n",
       "\n",
       "    .dataframe thead th {\n",
       "        text-align: right;\n",
       "    }\n",
       "</style>\n",
       "<table border=\"1\" class=\"dataframe\">\n",
       "  <thead>\n",
       "    <tr style=\"text-align: right;\">\n",
       "      <th></th>\n",
       "      <th>Make</th>\n",
       "      <th>Model</th>\n",
       "      <th>Year</th>\n",
       "      <th>Engine Fuel Type</th>\n",
       "      <th>Engine HP</th>\n",
       "      <th>Engine Cylinders</th>\n",
       "      <th>Transmission Type</th>\n",
       "      <th>Driven_Wheels</th>\n",
       "      <th>Number of Doors</th>\n",
       "      <th>Market Category</th>\n",
       "      <th>Vehicle Size</th>\n",
       "      <th>Vehicle Style</th>\n",
       "      <th>highway MPG</th>\n",
       "      <th>city mpg</th>\n",
       "      <th>Popularity</th>\n",
       "      <th>MSRP</th>\n",
       "    </tr>\n",
       "  </thead>\n",
       "  <tbody>\n",
       "    <tr>\n",
       "      <th>3474</th>\n",
       "      <td>Dodge</td>\n",
       "      <td>Dakota</td>\n",
       "      <td>2010</td>\n",
       "      <td>regular unleaded</td>\n",
       "      <td>210.0</td>\n",
       "      <td>6.0</td>\n",
       "      <td>AUTOMATIC</td>\n",
       "      <td>four wheel drive</td>\n",
       "      <td>4.0</td>\n",
       "      <td>Flex Fuel</td>\n",
       "      <td>Compact</td>\n",
       "      <td>Extended Cab Pickup</td>\n",
       "      <td>18</td>\n",
       "      <td>14</td>\n",
       "      <td>1851</td>\n",
       "      <td>27005</td>\n",
       "    </tr>\n",
       "    <tr>\n",
       "      <th>5893</th>\n",
       "      <td>Subaru</td>\n",
       "      <td>Impreza</td>\n",
       "      <td>2017</td>\n",
       "      <td>regular unleaded</td>\n",
       "      <td>152.0</td>\n",
       "      <td>4.0</td>\n",
       "      <td>AUTOMATIC</td>\n",
       "      <td>all wheel drive</td>\n",
       "      <td>4.0</td>\n",
       "      <td>Hatchback</td>\n",
       "      <td>Compact</td>\n",
       "      <td>4dr Hatchback</td>\n",
       "      <td>35</td>\n",
       "      <td>27</td>\n",
       "      <td>640</td>\n",
       "      <td>23295</td>\n",
       "    </tr>\n",
       "    <tr>\n",
       "      <th>6631</th>\n",
       "      <td>Porsche</td>\n",
       "      <td>Macan</td>\n",
       "      <td>2017</td>\n",
       "      <td>premium unleaded (required)</td>\n",
       "      <td>340.0</td>\n",
       "      <td>6.0</td>\n",
       "      <td>AUTOMATED_MANUAL</td>\n",
       "      <td>all wheel drive</td>\n",
       "      <td>4.0</td>\n",
       "      <td>Crossover,Luxury,Performance</td>\n",
       "      <td>Midsize</td>\n",
       "      <td>4dr SUV</td>\n",
       "      <td>23</td>\n",
       "      <td>17</td>\n",
       "      <td>1715</td>\n",
       "      <td>54400</td>\n",
       "    </tr>\n",
       "    <tr>\n",
       "      <th>927</th>\n",
       "      <td>Porsche</td>\n",
       "      <td>911</td>\n",
       "      <td>2015</td>\n",
       "      <td>premium unleaded (required)</td>\n",
       "      <td>520.0</td>\n",
       "      <td>6.0</td>\n",
       "      <td>AUTOMATED_MANUAL</td>\n",
       "      <td>all wheel drive</td>\n",
       "      <td>2.0</td>\n",
       "      <td>Luxury,High-Performance</td>\n",
       "      <td>Compact</td>\n",
       "      <td>Coupe</td>\n",
       "      <td>24</td>\n",
       "      <td>17</td>\n",
       "      <td>1715</td>\n",
       "      <td>151100</td>\n",
       "    </tr>\n",
       "    <tr>\n",
       "      <th>4174</th>\n",
       "      <td>Cadillac</td>\n",
       "      <td>Escalade</td>\n",
       "      <td>2017</td>\n",
       "      <td>premium unleaded (recommended)</td>\n",
       "      <td>420.0</td>\n",
       "      <td>8.0</td>\n",
       "      <td>AUTOMATIC</td>\n",
       "      <td>rear wheel drive</td>\n",
       "      <td>4.0</td>\n",
       "      <td>Luxury,Performance</td>\n",
       "      <td>Large</td>\n",
       "      <td>4dr SUV</td>\n",
       "      <td>22</td>\n",
       "      <td>15</td>\n",
       "      <td>1624</td>\n",
       "      <td>82895</td>\n",
       "    </tr>\n",
       "  </tbody>\n",
       "</table>\n",
       "</div>"
      ],
      "text/plain": [
       "          Make     Model  Year                Engine Fuel Type  Engine HP  \\\n",
       "3474     Dodge    Dakota  2010                regular unleaded      210.0   \n",
       "5893    Subaru   Impreza  2017                regular unleaded      152.0   \n",
       "6631   Porsche     Macan  2017     premium unleaded (required)      340.0   \n",
       "927    Porsche       911  2015     premium unleaded (required)      520.0   \n",
       "4174  Cadillac  Escalade  2017  premium unleaded (recommended)      420.0   \n",
       "\n",
       "      Engine Cylinders Transmission Type     Driven_Wheels  Number of Doors  \\\n",
       "3474               6.0         AUTOMATIC  four wheel drive              4.0   \n",
       "5893               4.0         AUTOMATIC   all wheel drive              4.0   \n",
       "6631               6.0  AUTOMATED_MANUAL   all wheel drive              4.0   \n",
       "927                6.0  AUTOMATED_MANUAL   all wheel drive              2.0   \n",
       "4174               8.0         AUTOMATIC  rear wheel drive              4.0   \n",
       "\n",
       "                   Market Category Vehicle Size        Vehicle Style  \\\n",
       "3474                     Flex Fuel      Compact  Extended Cab Pickup   \n",
       "5893                     Hatchback      Compact        4dr Hatchback   \n",
       "6631  Crossover,Luxury,Performance      Midsize              4dr SUV   \n",
       "927        Luxury,High-Performance      Compact                Coupe   \n",
       "4174            Luxury,Performance        Large              4dr SUV   \n",
       "\n",
       "      highway MPG  city mpg  Popularity    MSRP  \n",
       "3474           18        14        1851   27005  \n",
       "5893           35        27         640   23295  \n",
       "6631           23        17        1715   54400  \n",
       "927            24        17        1715  151100  \n",
       "4174           22        15        1624   82895  "
      ]
     },
     "execution_count": 2,
     "metadata": {},
     "output_type": "execute_result"
    }
   ],
   "source": [
    "df = pd.read_csv(\"car.csv\")\n",
    "df.sample(5)"
   ]
  },
  {
   "cell_type": "code",
   "execution_count": 3,
   "metadata": {},
   "outputs": [
    {
     "name": "stdout",
     "output_type": "stream",
     "text": [
      "(11914, 16)\n",
      "Chevrolet        1123\n",
      "Ford              881\n",
      "Volkswagen        809\n",
      "Toyota            746\n",
      "Dodge             626\n",
      "Nissan            558\n",
      "GMC               515\n",
      "Honda             449\n",
      "Mazda             423\n",
      "Cadillac          397\n",
      "Mercedes-Benz     353\n",
      "Suzuki            351\n",
      "BMW               334\n",
      "Infiniti          330\n",
      "Audi              328\n",
      "Hyundai           303\n",
      "Volvo             281\n",
      "Subaru            256\n",
      "Acura             252\n",
      "Kia               231\n",
      "Mitsubishi        213\n",
      "Lexus             202\n",
      "Buick             196\n",
      "Chrysler          187\n",
      "Pontiac           186\n",
      "Lincoln           164\n",
      "Oldsmobile        150\n",
      "Land Rover        143\n",
      "Porsche           136\n",
      "Saab              111\n",
      "Aston Martin       93\n",
      "Plymouth           82\n",
      "Bentley            74\n",
      "Ferrari            69\n",
      "FIAT               62\n",
      "Scion              60\n",
      "Maserati           58\n",
      "Lamborghini        52\n",
      "Rolls-Royce        31\n",
      "Lotus              29\n",
      "Tesla              18\n",
      "HUMMER             17\n",
      "Maybach            16\n",
      "Alfa Romeo          5\n",
      "McLaren             5\n",
      "Genesis             3\n",
      "Bugatti             3\n",
      "Spyker              3\n",
      "Name: Make, dtype: int64\n"
     ]
    }
   ],
   "source": [
    "print(df.shape) #view the dataset shape\n",
    "print(df['Make'].value_counts()) #viewing car companies with their car number"
   ]
  },
  {
   "cell_type": "code",
   "execution_count": 4,
   "metadata": {},
   "outputs": [
    {
     "name": "stdout",
     "output_type": "stream",
     "text": [
      "(809, 16) \n",
      "\n",
      "Make                   0\n",
      "Model                  0\n",
      "Year                   0\n",
      "Engine Fuel Type       0\n",
      "Engine HP              0\n",
      "Engine Cylinders       4\n",
      "Transmission Type      0\n",
      "Driven_Wheels          0\n",
      "Number of Doors        0\n",
      "Market Category      224\n",
      "Vehicle Size           0\n",
      "Vehicle Style          0\n",
      "highway MPG            0\n",
      "city mpg               0\n",
      "Popularity             0\n",
      "MSRP                   0\n",
      "dtype: int64\n"
     ]
    }
   ],
   "source": [
    "new_df = df[df['Make'] == 'Volkswagen'] #in this new dataset we only take 'Volkswagen'\n",
    "print(new_df.shape, \"\\n\") #viewing the shape of dataset\n",
    "print(new_df.isnull().sum()) #checking for null values "
   ]
  },
  {
   "cell_type": "code",
   "execution_count": 5,
   "metadata": {},
   "outputs": [
    {
     "name": "stdout",
     "output_type": "stream",
     "text": [
      "(581, 16) \n",
      "\n",
      "Make                 0\n",
      "Model                0\n",
      "Year                 0\n",
      "Engine Fuel Type     0\n",
      "Engine HP            0\n",
      "Engine Cylinders     0\n",
      "Transmission Type    0\n",
      "Driven_Wheels        0\n",
      "Number of Doors      0\n",
      "Market Category      0\n",
      "Vehicle Size         0\n",
      "Vehicle Style        0\n",
      "highway MPG          0\n",
      "city mpg             0\n",
      "Popularity           0\n",
      "MSRP                 0\n",
      "dtype: int64\n"
     ]
    },
    {
     "data": {
      "text/html": [
       "<div>\n",
       "<style scoped>\n",
       "    .dataframe tbody tr th:only-of-type {\n",
       "        vertical-align: middle;\n",
       "    }\n",
       "\n",
       "    .dataframe tbody tr th {\n",
       "        vertical-align: top;\n",
       "    }\n",
       "\n",
       "    .dataframe thead th {\n",
       "        text-align: right;\n",
       "    }\n",
       "</style>\n",
       "<table border=\"1\" class=\"dataframe\">\n",
       "  <thead>\n",
       "    <tr style=\"text-align: right;\">\n",
       "      <th></th>\n",
       "      <th>Make</th>\n",
       "      <th>Model</th>\n",
       "      <th>Year</th>\n",
       "      <th>Engine Fuel Type</th>\n",
       "      <th>Engine HP</th>\n",
       "      <th>Engine Cylinders</th>\n",
       "      <th>Transmission Type</th>\n",
       "      <th>Driven_Wheels</th>\n",
       "      <th>Number of Doors</th>\n",
       "      <th>Market Category</th>\n",
       "      <th>Vehicle Size</th>\n",
       "      <th>Vehicle Style</th>\n",
       "      <th>highway MPG</th>\n",
       "      <th>city mpg</th>\n",
       "      <th>Popularity</th>\n",
       "      <th>MSRP</th>\n",
       "    </tr>\n",
       "  </thead>\n",
       "  <tbody>\n",
       "    <tr>\n",
       "      <th>6102</th>\n",
       "      <td>Volkswagen</td>\n",
       "      <td>Jetta</td>\n",
       "      <td>2015</td>\n",
       "      <td>premium unleaded (recommended)</td>\n",
       "      <td>210.0</td>\n",
       "      <td>4.0</td>\n",
       "      <td>MANUAL</td>\n",
       "      <td>front wheel drive</td>\n",
       "      <td>4.0</td>\n",
       "      <td>Factory Tuner,Performance</td>\n",
       "      <td>Midsize</td>\n",
       "      <td>Sedan</td>\n",
       "      <td>33</td>\n",
       "      <td>23</td>\n",
       "      <td>873</td>\n",
       "      <td>26920</td>\n",
       "    </tr>\n",
       "    <tr>\n",
       "      <th>8626</th>\n",
       "      <td>Volkswagen</td>\n",
       "      <td>Routan</td>\n",
       "      <td>2012</td>\n",
       "      <td>flex-fuel (unleaded/E85)</td>\n",
       "      <td>283.0</td>\n",
       "      <td>6.0</td>\n",
       "      <td>AUTOMATIC</td>\n",
       "      <td>front wheel drive</td>\n",
       "      <td>4.0</td>\n",
       "      <td>Flex Fuel</td>\n",
       "      <td>Midsize</td>\n",
       "      <td>Passenger Minivan</td>\n",
       "      <td>25</td>\n",
       "      <td>17</td>\n",
       "      <td>873</td>\n",
       "      <td>32010</td>\n",
       "    </tr>\n",
       "    <tr>\n",
       "      <th>6037</th>\n",
       "      <td>Volkswagen</td>\n",
       "      <td>Jetta GLI</td>\n",
       "      <td>2014</td>\n",
       "      <td>premium unleaded (recommended)</td>\n",
       "      <td>210.0</td>\n",
       "      <td>4.0</td>\n",
       "      <td>MANUAL</td>\n",
       "      <td>front wheel drive</td>\n",
       "      <td>4.0</td>\n",
       "      <td>Performance</td>\n",
       "      <td>Midsize</td>\n",
       "      <td>Sedan</td>\n",
       "      <td>33</td>\n",
       "      <td>23</td>\n",
       "      <td>873</td>\n",
       "      <td>24535</td>\n",
       "    </tr>\n",
       "  </tbody>\n",
       "</table>\n",
       "</div>"
      ],
      "text/plain": [
       "            Make      Model  Year                Engine Fuel Type  Engine HP  \\\n",
       "6102  Volkswagen      Jetta  2015  premium unleaded (recommended)      210.0   \n",
       "8626  Volkswagen     Routan  2012        flex-fuel (unleaded/E85)      283.0   \n",
       "6037  Volkswagen  Jetta GLI  2014  premium unleaded (recommended)      210.0   \n",
       "\n",
       "      Engine Cylinders Transmission Type      Driven_Wheels  Number of Doors  \\\n",
       "6102               4.0            MANUAL  front wheel drive              4.0   \n",
       "8626               6.0         AUTOMATIC  front wheel drive              4.0   \n",
       "6037               4.0            MANUAL  front wheel drive              4.0   \n",
       "\n",
       "                Market Category Vehicle Size      Vehicle Style  highway MPG  \\\n",
       "6102  Factory Tuner,Performance      Midsize              Sedan           33   \n",
       "8626                  Flex Fuel      Midsize  Passenger Minivan           25   \n",
       "6037                Performance      Midsize              Sedan           33   \n",
       "\n",
       "      city mpg  Popularity   MSRP  \n",
       "6102        23         873  26920  \n",
       "8626        17         873  32010  \n",
       "6037        23         873  24535  "
      ]
     },
     "execution_count": 5,
     "metadata": {},
     "output_type": "execute_result"
    }
   ],
   "source": [
    "new_df = new_df.dropna() #deleteing the rows which have null values\n",
    "print(new_df.shape, \"\\n\") #after deletion viewing the shape\n",
    "print(new_df.isnull().sum()) #checking for null values \n",
    "new_df.sample(3) #checking the random dataset sample"
   ]
  },
  {
   "cell_type": "code",
   "execution_count": 6,
   "metadata": {},
   "outputs": [
    {
     "data": {
      "text/html": [
       "<div>\n",
       "<style scoped>\n",
       "    .dataframe tbody tr th:only-of-type {\n",
       "        vertical-align: middle;\n",
       "    }\n",
       "\n",
       "    .dataframe tbody tr th {\n",
       "        vertical-align: top;\n",
       "    }\n",
       "\n",
       "    .dataframe thead th {\n",
       "        text-align: right;\n",
       "    }\n",
       "</style>\n",
       "<table border=\"1\" class=\"dataframe\">\n",
       "  <thead>\n",
       "    <tr style=\"text-align: right;\">\n",
       "      <th></th>\n",
       "      <th>Engine HP</th>\n",
       "      <th>MSRP</th>\n",
       "    </tr>\n",
       "  </thead>\n",
       "  <tbody>\n",
       "    <tr>\n",
       "      <th>5410</th>\n",
       "      <td>220.0</td>\n",
       "      <td>31990</td>\n",
       "    </tr>\n",
       "    <tr>\n",
       "      <th>5414</th>\n",
       "      <td>292.0</td>\n",
       "      <td>39090</td>\n",
       "    </tr>\n",
       "    <tr>\n",
       "      <th>7479</th>\n",
       "      <td>280.0</td>\n",
       "      <td>36835</td>\n",
       "    </tr>\n",
       "    <tr>\n",
       "      <th>2410</th>\n",
       "      <td>200.0</td>\n",
       "      <td>37820</td>\n",
       "    </tr>\n",
       "    <tr>\n",
       "      <th>10542</th>\n",
       "      <td>240.0</td>\n",
       "      <td>54950</td>\n",
       "    </tr>\n",
       "  </tbody>\n",
       "</table>\n",
       "</div>"
      ],
      "text/plain": [
       "       Engine HP   MSRP\n",
       "5410       220.0  31990\n",
       "5414       292.0  39090\n",
       "7479       280.0  36835\n",
       "2410       200.0  37820\n",
       "10542      240.0  54950"
      ]
     },
     "execution_count": 6,
     "metadata": {},
     "output_type": "execute_result"
    }
   ],
   "source": [
    "#we only take Engine HP and MSRP\n",
    "new_df = new_df[['Engine HP', 'MSRP']]\n",
    "new_df.sample(5)"
   ]
  },
  {
   "cell_type": "code",
   "execution_count": 7,
   "metadata": {},
   "outputs": [
    {
     "name": "stdout",
     "output_type": "stream",
     "text": [
      "(581, 1)\n",
      "(581, 1)\n"
     ]
    }
   ],
   "source": [
    "X = np.array(new_df[['Engine HP']]) #sorting into X the 'Engine HP'\n",
    "print(X.shape)\n",
    "Y = np.array(new_df[['MSRP']]) # sorting into Y the 'MSRP'\n",
    "print(Y.shape)"
   ]
  },
  {
   "cell_type": "code",
   "execution_count": 8,
   "metadata": {},
   "outputs": [
    {
     "data": {
      "image/png": "[encoded data removed]",
      "text/plain": [
       "<Figure size 432x288 with 1 Axes>"
      ]
     },
     "metadata": {
      "needs_background": "light"
     },
     "output_type": "display_data"
    }
   ],
   "source": [
    "plt.scatter(X,Y,color=\"red\") # Plot a graph X vs Y\n",
    "plt.title('Engine HP vs MSRP')\n",
    "plt.xlabel('Engine HP')\n",
    "plt.ylabel('MSRP')\n",
    "plt.show()"
   ]
  },
  {
   "cell_type": "code",
   "execution_count": 9,
   "metadata": {},
   "outputs": [
    {
     "data": {
      "text/plain": [
       "LinearRegression()"
      ]
     },
     "execution_count": 9,
     "metadata": {},
     "output_type": "execute_result"
    }
   ],
   "source": [
    "#spliting into train and test dataset\n",
    "X_train, X_test, Y_train, Y_test = train_test_split(X, Y, test_size = 0.25, random_state = 15)\n",
    "regressor = LinearRegression() #creating a regressior\n",
    "regressor.fit(X_train, Y_train) #Fiting the dataset into the model"
   ]
  },
  {
   "cell_type": "code",
   "execution_count": 10,
   "metadata": {},
   "outputs": [
    {
     "data": {
      "image/png": "[encoded data removed]",
      "text/plain": [
       "<Figure size 432x288 with 1 Axes>"
      ]
     },
     "metadata": {
      "needs_background": "light"
     },
     "output_type": "display_data"
    }
   ],
   "source": [
    "#plot a graph with X_test and Y_test\n",
    "plt.scatter(X_test, Y_test, color = \"green\")\n",
    "#regression line\n",
    "plt.plot(X_train, regressor.predict(X_train), color = \"red\", linewidth = 2)\n",
    "plt.title('Regression (Test Set)')\n",
    "plt.xlabel('Engine HP')\n",
    "plt.ylabel('MSRP')\n",
    "plt.show()"
   ]
  },
  {
   "cell_type": "code",
   "execution_count": 11,
   "metadata": {},
   "outputs": [
    {
     "data": {
      "image/png": "[encoded data removed]",
      "text/plain": [
       "<Figure size 432x288 with 1 Axes>"
      ]
     },
     "metadata": {
      "needs_background": "light"
     },
     "output_type": "display_data"
    }
   ],
   "source": [
    "#plot a graph with X_train and Y_train\n",
    "plt.scatter(X_train, Y_train, color = \"blue\")\n",
    "#regression line\n",
    "plt.plot(X_train, regressor.predict(X_train), color = \"red\", linewidth = 2)\n",
    "plt.title('Regression (Test Set)')\n",
    "plt.xlabel('Engine HP')\n",
    "plt.ylabel('MSRP')\n",
    "plt.show()"
   ]
  },
  {
   "cell_type": "code",
   "execution_count": 12,
   "metadata": {},
   "outputs": [
    {
     "name": "stdout",
     "output_type": "stream",
     "text": [
      "R2 score: 0.73\n",
      "Mean squared Error : 55796476.511791624\n"
     ]
    }
   ],
   "source": [
    "Y_pred = regressor.predict(X_test)\n",
    "print('R2 score: %.2f' % r2_score(Y_test, Y_pred)) # Priniting R2 Score\n",
    "print('Mean squared Error :',mean_squared_error(Y_test, Y_pred)) # Priniting the mean error"
   ]
  },
  {
   "cell_type": "code",
   "execution_count": 13,
   "metadata": {},
   "outputs": [
    {
     "name": "stdout",
     "output_type": "stream",
     "text": [
      "Enter Volkswagen cars Horse Power : 225\n",
      "This Volkswagen Prce will be :  33568\n"
     ]
    }
   ],
   "source": [
    "def car_price(hp): # A function to predict the price according to Horsepower\n",
    "    result = regressor.predict(np.array(hp).reshape(1, -1))\n",
    "    return(result[0,0])\n",
    "car_hp = int(input('Enter Volkswagen cars Horse Power : '))\n",
    "print('This Volkswagen Prce will be : ',int(car_price(car_hp)))"
   ]
  }
 ],
 "metadata": {
  "kernelspec": {
   "display_name": "Python 3",
   "language": "python",
   "name": "python3"
  },
  "language_info": {
   "codemirror_mode": {
    "name": "ipython",
    "version": 3
   },
   "file_extension": ".py",
   "mimetype": "text/x-python",
   "name": "python",
   "nbconvert_exporter": "python",
   "pygments_lexer": "ipython3",
   "version": "3.8.2"
  }
 },
 "nbformat": 4,
 "nbformat_minor": 4
}
