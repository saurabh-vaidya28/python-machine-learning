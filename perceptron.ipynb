{
 "cells": [
  {
   "cell_type": "markdown",
   "metadata": {},
   "source": [
    "A Perceptron is an algorithm used for supervised learning of binary classifiers. Binary classifiers decide whether an input, usually represented by a series of vectors, belongs to a specific class. In short, a perceptron is a single-layer neural network. "
   ]
  },
  {
   "cell_type": "code",
   "execution_count": 1,
   "metadata": {},
   "outputs": [],
   "source": [
    "from sklearn.datasets import make_classification\n",
    "import pandas as pd"
   ]
  },
  {
   "cell_type": "code",
   "execution_count": 2,
   "metadata": {},
   "outputs": [],
   "source": [
    "X, y = make_classification(n_samples = 1000, n_features = 10,\n",
    "                         n_informative = 10, n_redundant = 0, random_state = 1)\n",
    "df = pd.DataFrame(X, y)"
   ]
  },
  {
   "cell_type": "code",
   "execution_count": 3,
   "metadata": {},
   "outputs": [
    {
     "data": {
      "text/html": [
       "<div>\n",
       "<style scoped>\n",
       "    .dataframe tbody tr th:only-of-type {\n",
       "        vertical-align: middle;\n",
       "    }\n",
       "\n",
       "    .dataframe tbody tr th {\n",
       "        vertical-align: top;\n",
       "    }\n",
       "\n",
       "    .dataframe thead th {\n",
       "        text-align: right;\n",
       "    }\n",
       "</style>\n",
       "<table border=\"1\" class=\"dataframe\">\n",
       "  <thead>\n",
       "    <tr style=\"text-align: right;\">\n",
       "      <th></th>\n",
       "      <th>0</th>\n",
       "      <th>1</th>\n",
       "      <th>2</th>\n",
       "      <th>3</th>\n",
       "      <th>4</th>\n",
       "      <th>5</th>\n",
       "      <th>6</th>\n",
       "      <th>7</th>\n",
       "      <th>8</th>\n",
       "      <th>9</th>\n",
       "    </tr>\n",
       "  </thead>\n",
       "  <tbody>\n",
       "    <tr>\n",
       "      <th>0</th>\n",
       "      <td>0.127776</td>\n",
       "      <td>-3.644005</td>\n",
       "      <td>-2.232689</td>\n",
       "      <td>-1.821144</td>\n",
       "      <td>1.754664</td>\n",
       "      <td>0.124397</td>\n",
       "      <td>1.033977</td>\n",
       "      <td>2.358221</td>\n",
       "      <td>1.010018</td>\n",
       "      <td>0.567685</td>\n",
       "    </tr>\n",
       "    <tr>\n",
       "      <th>1</th>\n",
       "      <td>1.298768</td>\n",
       "      <td>0.649519</td>\n",
       "      <td>-0.150723</td>\n",
       "      <td>-3.715281</td>\n",
       "      <td>-3.215227</td>\n",
       "      <td>-1.994594</td>\n",
       "      <td>-0.580555</td>\n",
       "      <td>-2.557026</td>\n",
       "      <td>-0.162739</td>\n",
       "      <td>0.684521</td>\n",
       "    </tr>\n",
       "    <tr>\n",
       "      <th>0</th>\n",
       "      <td>-1.721602</td>\n",
       "      <td>-2.321542</td>\n",
       "      <td>1.465784</td>\n",
       "      <td>0.648564</td>\n",
       "      <td>0.489534</td>\n",
       "      <td>-3.642472</td>\n",
       "      <td>1.436059</td>\n",
       "      <td>0.974294</td>\n",
       "      <td>2.583210</td>\n",
       "      <td>0.930962</td>\n",
       "    </tr>\n",
       "    <tr>\n",
       "      <th>0</th>\n",
       "      <td>-1.053092</td>\n",
       "      <td>-3.760828</td>\n",
       "      <td>-0.388645</td>\n",
       "      <td>0.326420</td>\n",
       "      <td>0.146872</td>\n",
       "      <td>1.291129</td>\n",
       "      <td>-3.509374</td>\n",
       "      <td>0.247379</td>\n",
       "      <td>-1.672576</td>\n",
       "      <td>2.017196</td>\n",
       "    </tr>\n",
       "    <tr>\n",
       "      <th>0</th>\n",
       "      <td>3.235797</td>\n",
       "      <td>2.734987</td>\n",
       "      <td>3.676291</td>\n",
       "      <td>2.104079</td>\n",
       "      <td>2.047250</td>\n",
       "      <td>2.027495</td>\n",
       "      <td>0.975210</td>\n",
       "      <td>-2.539668</td>\n",
       "      <td>1.065474</td>\n",
       "      <td>2.182862</td>\n",
       "    </tr>\n",
       "    <tr>\n",
       "      <th>1</th>\n",
       "      <td>2.729402</td>\n",
       "      <td>2.586317</td>\n",
       "      <td>2.725147</td>\n",
       "      <td>-0.210914</td>\n",
       "      <td>-0.327835</td>\n",
       "      <td>1.759460</td>\n",
       "      <td>0.770700</td>\n",
       "      <td>0.204460</td>\n",
       "      <td>-1.600523</td>\n",
       "      <td>-1.159881</td>\n",
       "    </tr>\n",
       "    <tr>\n",
       "      <th>1</th>\n",
       "      <td>1.750667</td>\n",
       "      <td>-1.281114</td>\n",
       "      <td>0.734385</td>\n",
       "      <td>-1.274474</td>\n",
       "      <td>-0.063250</td>\n",
       "      <td>-1.566732</td>\n",
       "      <td>2.635954</td>\n",
       "      <td>-0.726148</td>\n",
       "      <td>-2.840751</td>\n",
       "      <td>1.083822</td>\n",
       "    </tr>\n",
       "    <tr>\n",
       "      <th>0</th>\n",
       "      <td>-5.119403</td>\n",
       "      <td>1.335121</td>\n",
       "      <td>0.904760</td>\n",
       "      <td>0.554337</td>\n",
       "      <td>0.602237</td>\n",
       "      <td>0.311253</td>\n",
       "      <td>-0.303213</td>\n",
       "      <td>-2.083628</td>\n",
       "      <td>1.378364</td>\n",
       "      <td>-0.064096</td>\n",
       "    </tr>\n",
       "    <tr>\n",
       "      <th>0</th>\n",
       "      <td>0.480829</td>\n",
       "      <td>0.059529</td>\n",
       "      <td>-3.482497</td>\n",
       "      <td>-1.390538</td>\n",
       "      <td>-0.515041</td>\n",
       "      <td>-1.873241</td>\n",
       "      <td>0.195926</td>\n",
       "      <td>-1.701835</td>\n",
       "      <td>2.644436</td>\n",
       "      <td>-0.971791</td>\n",
       "    </tr>\n",
       "    <tr>\n",
       "      <th>0</th>\n",
       "      <td>0.572832</td>\n",
       "      <td>4.585572</td>\n",
       "      <td>-1.892437</td>\n",
       "      <td>-4.771060</td>\n",
       "      <td>-0.023034</td>\n",
       "      <td>3.957668</td>\n",
       "      <td>-1.101979</td>\n",
       "      <td>-0.027501</td>\n",
       "      <td>2.131011</td>\n",
       "      <td>-0.905529</td>\n",
       "    </tr>\n",
       "  </tbody>\n",
       "</table>\n",
       "</div>"
      ],
      "text/plain": [
       "          0         1         2         3         4         5         6  \\\n",
       "0  0.127776 -3.644005 -2.232689 -1.821144  1.754664  0.124397  1.033977   \n",
       "1  1.298768  0.649519 -0.150723 -3.715281 -3.215227 -1.994594 -0.580555   \n",
       "0 -1.721602 -2.321542  1.465784  0.648564  0.489534 -3.642472  1.436059   \n",
       "0 -1.053092 -3.760828 -0.388645  0.326420  0.146872  1.291129 -3.509374   \n",
       "0  3.235797  2.734987  3.676291  2.104079  2.047250  2.027495  0.975210   \n",
       "1  2.729402  2.586317  2.725147 -0.210914 -0.327835  1.759460  0.770700   \n",
       "1  1.750667 -1.281114  0.734385 -1.274474 -0.063250 -1.566732  2.635954   \n",
       "0 -5.119403  1.335121  0.904760  0.554337  0.602237  0.311253 -0.303213   \n",
       "0  0.480829  0.059529 -3.482497 -1.390538 -0.515041 -1.873241  0.195926   \n",
       "0  0.572832  4.585572 -1.892437 -4.771060 -0.023034  3.957668 -1.101979   \n",
       "\n",
       "          7         8         9  \n",
       "0  2.358221  1.010018  0.567685  \n",
       "1 -2.557026 -0.162739  0.684521  \n",
       "0  0.974294  2.583210  0.930962  \n",
       "0  0.247379 -1.672576  2.017196  \n",
       "0 -2.539668  1.065474  2.182862  \n",
       "1  0.204460 -1.600523 -1.159881  \n",
       "1 -0.726148 -2.840751  1.083822  \n",
       "0 -2.083628  1.378364 -0.064096  \n",
       "0 -1.701835  2.644436 -0.971791  \n",
       "0 -0.027501  2.131011 -0.905529  "
      ]
     },
     "execution_count": 3,
     "metadata": {},
     "output_type": "execute_result"
    }
   ],
   "source": [
    "df.head(10)"
   ]
  },
  {
   "cell_type": "code",
   "execution_count": 4,
   "metadata": {},
   "outputs": [
    {
     "data": {
      "text/plain": [
       "Perceptron()"
      ]
     },
     "execution_count": 4,
     "metadata": {},
     "output_type": "execute_result"
    }
   ],
   "source": [
    "# importing Perceptron model\n",
    "\n",
    "from sklearn.linear_model import Perceptron\n",
    "model = Perceptron()\n",
    "model.fit(X, y)"
   ]
  },
  {
   "cell_type": "markdown",
   "metadata": {},
   "source": [
    "Predicting for third row of data frame."
   ]
  },
  {
   "cell_type": "code",
   "execution_count": 5,
   "metadata": {},
   "outputs": [],
   "source": [
    "row3 = [-1.721602, -2.321542, 1.465784, 0.648564, 0.489534, -3.642472,\n",
    "        1.436059, 0.974294, 2.583210, 0.930962]"
   ]
  },
  {
   "cell_type": "code",
   "execution_count": 6,
   "metadata": {},
   "outputs": [
    {
     "name": "stdout",
     "output_type": "stream",
     "text": [
      "Predicted Class of 3rd row: 0\n"
     ]
    }
   ],
   "source": [
    "output3 = model.predict([row3])\n",
    "print('Predicted Class of 3rd row: %d' %output3)"
   ]
  },
  {
   "cell_type": "markdown",
   "metadata": {},
   "source": [
    "   "
   ]
  },
  {
   "cell_type": "markdown",
   "metadata": {},
   "source": [
    "Predicting for 6th row of data frame."
   ]
  },
  {
   "cell_type": "code",
   "execution_count": 7,
   "metadata": {},
   "outputs": [],
   "source": [
    "row6 = [2.729402, 2.586317, 2.725147, -0.210914, -0.327835, 1.759460, \n",
    "        0.770700, 0.204460, -1.600523, -1.159881]"
   ]
  },
  {
   "cell_type": "code",
   "execution_count": 8,
   "metadata": {},
   "outputs": [
    {
     "name": "stdout",
     "output_type": "stream",
     "text": [
      "Predicted Class of 6th row: 1\n"
     ]
    }
   ],
   "source": [
    "output6 = model.predict([row6])\n",
    "print('Predicted Class of 6th row: %d' %output6)"
   ]
  }
 ],
 "metadata": {
  "kernelspec": {
   "display_name": "Python 3",
   "language": "python",
   "name": "python3"
  },
  "language_info": {
   "codemirror_mode": {
    "name": "ipython",
    "version": 3
   },
   "file_extension": ".py",
   "mimetype": "text/x-python",
   "name": "python",
   "nbconvert_exporter": "python",
   "pygments_lexer": "ipython3",
   "version": "3.8.2"
  }
 },
 "nbformat": 4,
 "nbformat_minor": 4
}
